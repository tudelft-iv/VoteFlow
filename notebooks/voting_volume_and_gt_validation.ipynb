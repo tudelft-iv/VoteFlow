{
 "cells": [
  {
   "cell_type": "code",
   "execution_count": 1,
   "metadata": {},
   "outputs": [],
   "source": [
    "import torch\n",
    "import os\n",
    "import pickle\n",
    "from pytorch3d.ops import knn_points, knn_gather\n",
    "import os.path as osp\n",
    "import matplotlib.pyplot as plt\n",
    "from glob import glob"
   ]
  },
  {
   "cell_type": "markdown",
   "metadata": {},
   "source": [
    "## Visualize the voting space"
   ]
  },
  {
   "cell_type": "markdown",
   "metadata": {},
   "source": [
    "### Get the input"
   ]
  },
  {
   "cell_type": "code",
   "execution_count": 2,
   "metadata": {},
   "outputs": [
    {
     "name": "stdout",
     "output_type": "stream",
     "text": [
      "/home/shimingwang/workspace/sf_tv/sceneflow_tv_se/outputs/sf_voxel_model/25e5c600-36fe-3245-9cc0-40ef91620c22\n",
      "156\n"
     ]
    }
   ],
   "source": [
    "output_root = '/home/shimingwang/workspace/sf_tv/sceneflow_tv_se/outputs'\n",
    "output_folder =  'sf_voxel_model/25e5c600-36fe-3245-9cc0-40ef91620c22'\n",
    "\n",
    "output_path = osp.join(output_root, output_folder)\n",
    "print(output_path)\n",
    "print\n",
    "file_list = []\n",
    "for file_name in glob(f'{output_path}/*.pkl'):\n",
    "    file_list.append(file_name)\n",
    "\n",
    "print(len(file_list))"
   ]
  },
  {
   "cell_type": "code",
   "execution_count": 3,
   "metadata": {},
   "outputs": [
    {
     "name": "stdout",
     "output_type": "stream",
     "text": [
      "/home/shimingwang/workspace/sf_tv/sceneflow_tv_se/outputs/sf_voxel_model/25e5c600-36fe-3245-9cc0-40ef91620c22/315966106959953000.pkl\n",
      "315966106959953000.pkl\n",
      "dict_keys(['input_batch', 'model_output', 'final_flow'])\n"
     ]
    }
   ],
   "source": [
    "file_path = file_list[0]\n",
    "print(file_path)\n",
    "\n",
    "file_name = file_path.split('/')[-1]\n",
    "print(file_name)\n",
    "\n",
    "with open(file_path, 'rb') as f:\n",
    "    outputs = pickle.load(f)\n",
    "\n",
    "print(outputs.keys())   "
   ]
  },
  {
   "cell_type": "code",
   "execution_count": 6,
   "metadata": {},
   "outputs": [
    {
     "name": "stdout",
     "output_type": "stream",
     "text": [
      "dict_keys(['scene_id', 'timestamp', 'pc0', 'gm0', 'pose0', 'pc1', 'gm1', 'pose1', 'flow', 'flow_is_valid', 'flow_category_indices', 'ego_motion', 'origin_pc0'])\n",
      "dict_keys(['voting_vol', 'points_src_offset', 'points_src_voxel_idx', 'flow', 'pc0_points_lst', 'pc1_points_lst', 'pc0_valid_point_idxes', 'pc1_valid_point_idxes', 'pose_flow'])\n",
      "torch.Size([10764, 34, 34])\n"
     ]
    }
   ],
   "source": [
    "input_batch = outputs['input_batch']\n",
    "print(input_batch.keys())\n",
    "\n",
    "model_output = outputs['model_output'] \n",
    "print(model_output.keys())\n",
    "\n",
    "voting_vol = model_output['voting_vol']\n",
    "\n",
    "print(voting_vol.shape)"
   ]
  },
  {
   "cell_type": "code",
   "execution_count": 59,
   "metadata": {},
   "outputs": [
    {
     "name": "stdout",
     "output_type": "stream",
     "text": [
      "torch.Size([71324, 3])\n",
      "torch.Size([70819, 3])\n",
      "gt_flow: torch.Size([95791, 3])\n",
      "torch.Size([10764, 34, 34])\n",
      "torch.Size([45371])\n",
      "torch.Size([45371])\n",
      "torch.Size([45371, 3])\n",
      "torch.Size([45371, 3])\n",
      "tensor(False, device='cuda:0')\n",
      "tensor([0, 1, 2, 3, 4, 5, 6, 7, 8, 9], device='cuda:0') tensor(71322, device='cuda:0')\n",
      "tensor([9077, 9078, 8795, 8795, 9088, 9088, 8814, 8814, 9125, 9103],\n",
      "       device='cuda:0') tensor(10763, device='cuda:0')\n"
     ]
    }
   ],
   "source": [
    "print(input_batch['pc0'].shape)\n",
    "print(input_batch['pc1'].shape)\n",
    "print('gt_flow:', input_batch['flow'].shape)  \n",
    "print(model_output['voting_vol'].shape)\n",
    "print(model_output['points_src_voxel_idx'].shape)\n",
    "print(model_output['pc0_valid_point_idxes'].shape)\n",
    "print(model_output['pc0_points_lst'].shape)\n",
    "print(model_output['points_src_offset'].shape)\n",
    "\n",
    "print(torch.eq(model_output['pc0_valid_point_idxes'], model_output['points_src_voxel_idx']).all())\n",
    "\n",
    "print(model_output['pc0_valid_point_idxes'][:10], model_output['pc0_valid_point_idxes'].max())\n",
    "print(model_output['points_src_voxel_idx'][:10], model_output['points_src_voxel_idx'].max())"
   ]
  },
  {
   "cell_type": "code",
   "execution_count": 63,
   "metadata": {},
   "outputs": [
    {
     "name": "stdout",
     "output_type": "stream",
     "text": [
      "torch.Size([45371, 3])\n",
      "torch.Size([45371, 3])\n"
     ]
    }
   ],
   "source": [
    "flow = input_batch['flow']\n",
    "\n",
    "flow = flow[model_output['pc0_valid_point_idxes']]\n",
    "pose_flow = model_output['pose_flow'][model_output['pc0_valid_point_idxes']]\n",
    "print(flow.shape)\n",
    "print(pose_flow.shape)  \n",
    "\n",
    "\n",
    "gt_flow = flow - pose_flow"
   ]
  },
  {
   "cell_type": "markdown",
   "metadata": {},
   "source": [
    "### validate the gathering function"
   ]
  },
  {
   "cell_type": "code",
   "execution_count": 8,
   "metadata": {},
   "outputs": [
    {
     "name": "stdout",
     "output_type": "stream",
     "text": [
      "torch.Size([71324, 3])\n",
      "torch.Size([45371])\n",
      "torch.Size([45371, 3])\n",
      "torch.Size([45371, 3])\n",
      "torch.Size([71324, 3])\n",
      "torch.Size([45371, 3])\n",
      "tensor([[-35.8577,  30.4351,  -0.5454],\n",
      "        [-35.7948,  30.4365,   0.5444],\n",
      "        [-30.6650,  26.0558,  -2.3321],\n",
      "        [-30.6177,  26.0568,  -1.3970],\n",
      "        [-35.9227,  30.7315,  -0.5485],\n",
      "        [-35.8280,  30.6706,   0.5462],\n",
      "        [-30.6510,  26.2434,  -2.3385],\n",
      "        [-30.6193,  26.2443,  -1.4018],\n",
      "        [-36.0819,  31.0739,  -0.5535],\n",
      "        [-35.8300,  30.9049,   0.5480]], device='cuda:0')\n",
      "tensor([[-35.8577,  30.4351,  -0.5454],\n",
      "        [-35.7948,  30.4365,   0.5444],\n",
      "        [-30.6650,  26.0558,  -2.3321],\n",
      "        [-30.6177,  26.0568,  -1.3970],\n",
      "        [-35.9227,  30.7315,  -0.5485],\n",
      "        [-35.8280,  30.6706,   0.5462],\n",
      "        [-30.6510,  26.2434,  -2.3385],\n",
      "        [-30.6193,  26.2443,  -1.4018],\n",
      "        [-36.0819,  31.0739,  -0.5535],\n",
      "        [-35.8300,  30.9049,   0.5480]], device='cuda:0')\n",
      "tensor(False, device='cuda:0')\n"
     ]
    }
   ],
   "source": [
    "pc_src = input_batch['pc0'] ## after ground removal\n",
    "valid_pts_mask = model_output['pc0_valid_point_idxes']\n",
    "valid_pts = model_output['pc0_points_lst']\n",
    "pts_src_offsets = model_output['points_src_offset']\n",
    "pose_flow = model_output['pose_flow']\n",
    "\n",
    "\n",
    "print(pc_src.shape)\n",
    "print(valid_pts_mask.shape)\n",
    "print(valid_pts.shape)\n",
    "print(pts_src_offsets.shape)\n",
    "print(pose_flow.shape)\n",
    "\n",
    "pc_src_egm = pc_src + pose_flow \n",
    "valid_pts_from_mask = pc_src_egm[valid_pts_mask]\n",
    "print(valid_pts_from_mask.shape)\n",
    "\n",
    "print(valid_pts[:10, :])\n",
    "print(valid_pts_from_mask[:10, :])\n",
    "print(torch.eq(valid_pts, valid_pts_from_mask).all())"
   ]
  },
  {
   "cell_type": "markdown",
   "metadata": {},
   "source": [
    "### get the Rough Flow of the voting space"
   ]
  },
  {
   "cell_type": "code",
   "execution_count": 11,
   "metadata": {},
   "outputs": [
    {
     "name": "stdout",
     "output_type": "stream",
     "text": [
      "torch.Size([34, 34])\n",
      "torch.Size([34, 34])\n",
      "torch.Size([34, 34, 2])\n",
      "tensor([-3.3000, -3.3000])\n",
      "tensor([-3.3000,  3.3000])\n",
      "tensor([ 3.3000, -3.3000])\n",
      "tensor([3.3000, 3.3000])\n",
      "torch.Size([1156, 2])\n"
     ]
    }
   ],
   "source": [
    "ref_y, ref_x = torch.meshgrid(torch.linspace(-3.3, 3.3, 34),torch.linspace(-3.3, 3.3 , 34))\n",
    "\n",
    "print(ref_y.shape)\n",
    "print(ref_x.shape)\n",
    "\n",
    "flow_coord = torch.stack((ref_y, ref_x), dim=-1)\n",
    "\n",
    "print(flow_coord.shape)\n",
    "\n",
    "print(flow_coord[0, 0, :])\n",
    "print(flow_coord[0, -1, :])\n",
    "print(flow_coord[-1, 0, :])\n",
    "print(flow_coord[-1, -1, :])\n",
    "\n",
    "flow_coord = flow_coord.view(-1, 2)\n",
    "print(flow_coord.shape)"
   ]
  },
  {
   "cell_type": "code",
   "execution_count": 19,
   "metadata": {},
   "outputs": [
    {
     "name": "stdout",
     "output_type": "stream",
     "text": [
      "torch.Size([10764, 34, 34])\n",
      "torch.Size([10764, 1156])\n",
      "torch.Size([10764, 5])\n",
      "torch.Size([10764, 5])\n",
      "tensor(True, device='cuda:0')\n",
      "tensor([[3.0000, 2.6398, 1.7551, 1.3885, 0.7559],\n",
      "        [3.0000, 2.6398, 1.7551, 1.3885, 0.7559],\n",
      "        [3.0000, 2.6398, 1.7551, 1.3885, 0.7559],\n",
      "        [3.0000, 2.6398, 1.7551, 1.3885, 0.7559],\n",
      "        [4.9439, 4.9345, 4.9325, 4.2318, 4.0676],\n",
      "        [4.9439, 4.9345, 4.9325, 4.2318, 4.0676],\n",
      "        [2.7089, 2.2012, 2.1022, 2.0817, 2.0412],\n",
      "        [3.0000, 2.7089, 2.7085, 2.5651, 2.5453],\n",
      "        [3.0000, 2.7089, 2.5202, 2.2833, 2.2742],\n",
      "        [3.0000, 2.8406, 2.8162, 2.4622, 1.9546],\n",
      "        [3.0000, 2.8162, 2.4489, 2.0403, 1.8300],\n",
      "        [2.5597, 2.1674, 1.9469, 1.9406, 1.9131],\n",
      "        [4.8841, 3.3757, 3.1400, 2.9894, 2.9327],\n",
      "        [6.0000, 4.6177, 3.9984, 3.7103, 3.1786],\n",
      "        [6.0000, 4.6177, 3.9984, 3.7103, 3.1786],\n",
      "        [6.0000, 4.6177, 3.9984, 3.7103, 3.1786],\n",
      "        [0.1549, 0.0490, 0.0000, 0.0000, 0.0000],\n",
      "        [4.8637, 4.7013, 4.5150, 4.3514, 4.2345],\n",
      "        [4.9439, 4.9345, 4.9325, 4.2318, 4.0676],\n",
      "        [4.9439, 4.9345, 4.9325, 4.2318, 4.0676]], device='cuda:0')\n",
      "tensor(8., device='cuda:0') tensor(0., device='cuda:0')\n"
     ]
    }
   ],
   "source": [
    "print(voting_vol.shape)\n",
    "\n",
    "vols_flattened = voting_vol.view(voting_vol.shape[0], -1)\n",
    "print(vols_flattened.shape)\n",
    "\n",
    "topk_voting, topk_idx = torch.topk(vols_flattened, 5, dim=-1)\n",
    "print(topk_voting.shape)\n",
    "print(topk_idx.shape)\n",
    "\n",
    "gathered_vol = torch.gather(vols_flattened, dim =1, index = topk_idx)\n",
    "\n",
    "print(torch.eq(gathered_vol, topk_voting).all())    \n",
    "\n",
    "\n",
    "print(topk_voting[:20, :])\n",
    "print(topk_voting.max(), topk_voting.min())"
   ]
  },
  {
   "cell_type": "markdown",
   "metadata": {},
   "source": [
    "### get the corresponding rough flow"
   ]
  },
  {
   "cell_type": "code",
   "execution_count": 30,
   "metadata": {},
   "outputs": [
    {
     "name": "stdout",
     "output_type": "stream",
     "text": [
      "torch.Size([1156, 2]) cuda:0\n",
      "torch.Size([10764, 5]) cuda:0\n",
      "torch.Size([1, 10764, 5, 2])\n"
     ]
    }
   ],
   "source": [
    "print(flow_coord.shape, flow_coord.device)\n",
    "print(topk_idx.shape, topk_idx.device)\n",
    "\n",
    "flow_coord = flow_coord.to(topk_idx.device)\n",
    "voting_rough_flow = knn_gather(x=flow_coord[None], idx=topk_idx[None])\n",
    "\n",
    "print(voting_rough_flow.shape)\n",
    "\n",
    "voting_rough_flow = voting_rough_flow.squeeze(0)\n"
   ]
  },
  {
   "cell_type": "code",
   "execution_count": 34,
   "metadata": {},
   "outputs": [
    {
     "name": "stdout",
     "output_type": "stream",
     "text": [
      "torch.Size([10764, 5])\n",
      "tensor(4.6669, device='cuda:0') tensor(0.1414, device='cuda:0')\n",
      "torch.Size([10764])\n",
      "tensor(4.6669, device='cuda:0') tensor(0.1414, device='cuda:0')\n"
     ]
    }
   ],
   "source": [
    "voting_rough_flow_distance = torch.norm(voting_rough_flow, dim=-1)\n",
    "print(voting_rough_flow_distance.shape)\n",
    "print(voting_rough_flow_distance.max(), voting_rough_flow_distance.min())\n",
    "\n",
    "voting_rough_flow_distance_top1 = voting_rough_flow_distance[:, 0]\n",
    "\n",
    "print(voting_rough_flow_distance_top1.shape)\n",
    "print(voting_rough_flow_distance_top1.max(), voting_rough_flow_distance_top1.min())"
   ]
  },
  {
   "cell_type": "markdown",
   "metadata": {},
   "source": [
    "### project back to the points level"
   ]
  },
  {
   "cell_type": "code",
   "execution_count": 49,
   "metadata": {},
   "outputs": [
    {
     "name": "stdout",
     "output_type": "stream",
     "text": [
      "torch.Size([1, 10764, 5])\n",
      "torch.Size([1, 45371, 1])\n",
      "torch.Size([1, 45371, 1, 5])\n",
      "torch.Size([45371])\n",
      "tensor(4.6669, device='cuda:0') tensor(0.1414, device='cuda:0')\n"
     ]
    }
   ],
   "source": [
    "points_src_voxel_idx = model_output['points_src_voxel_idx']\n",
    "\n",
    "print(voting_rough_flow_distance[None].shape)\n",
    "print(points_src_voxel_idx[None,:,None].shape)\n",
    "points_src_rough_flow_dist = knn_gather(x=voting_rough_flow_distance[None], idx=points_src_voxel_idx[None,:,None])\n",
    "\n",
    "print(points_src_rough_flow_dist.shape)\n",
    "\n",
    "points_src_rough_flow_dist_top1 = points_src_rough_flow_dist.squeeze(0).squeeze(1)[:, 0]\n",
    "\n",
    "print(points_src_rough_flow_dist_top1.shape)\n",
    "\n",
    "print(points_src_rough_flow_dist_top1.max(), points_src_rough_flow_dist_top1.min())"
   ]
  },
  {
   "cell_type": "code",
   "execution_count": 50,
   "metadata": {},
   "outputs": [],
   "source": [
    "import numpy as np"
   ]
  },
  {
   "cell_type": "markdown",
   "metadata": {},
   "source": [
    "### Get histogram of the voting space"
   ]
  },
  {
   "cell_type": "code",
   "execution_count": 52,
   "metadata": {},
   "outputs": [
    {
     "name": "stdout",
     "output_type": "stream",
     "text": [
      "[0.  0.2 0.4 0.6 0.8 1.  1.2 1.4 1.6 1.8 2.  2.2 2.4 2.6 2.8 3.  3.2 3.4\n",
      " 3.6 3.8 4. ]\n"
     ]
    },
    {
     "data": {
      "text/plain": [
       "<matplotlib.patches.StepPatch at 0x7f2d98cc3280>"
      ]
     },
     "execution_count": 52,
     "metadata": {},
     "output_type": "execute_result"
    },
    {
     "data": {
      "image/png": "[encoded data removed]",
      "text/plain": [
       "<Figure size 640x480 with 1 Axes>"
      ]
     },
     "metadata": {},
     "output_type": "display_data"
    }
   ],
   "source": [
    "bins = np.linspace(0, 4, 21)\n",
    "\n",
    "print(bins)\n",
    "\n",
    "counts, bins = np.histogram(voting_rough_flow_distance_top1.cpu().numpy(), bins=bins)\n",
    "plt.stairs(counts, bins, fill=True)"
   ]
  },
  {
   "cell_type": "markdown",
   "metadata": {},
   "source": [
    "### Get histogram of point levels"
   ]
  },
  {
   "cell_type": "code",
   "execution_count": 51,
   "metadata": {},
   "outputs": [
    {
     "name": "stdout",
     "output_type": "stream",
     "text": [
      "[0.  0.2 0.4 0.6 0.8 1.  1.2 1.4 1.6 1.8 2.  2.2 2.4 2.6 2.8 3.  3.2 3.4\n",
      " 3.6 3.8 4. ]\n"
     ]
    },
    {
     "data": {
      "text/plain": [
       "<matplotlib.patches.StepPatch at 0x7f2d98cedbe0>"
      ]
     },
     "execution_count": 51,
     "metadata": {},
     "output_type": "execute_result"
    },
    {
     "data": {
      "image/png": "[encoded data removed]",
      "text/plain": [
       "<Figure size 640x480 with 1 Axes>"
      ]
     },
     "metadata": {},
     "output_type": "display_data"
    }
   ],
   "source": [
    "bins = np.linspace(0, 4, 21)\n",
    "\n",
    "print(bins)\n",
    "\n",
    "counts, bins = np.histogram(points_src_rough_flow_dist_top1.cpu().numpy(), bins=bins)\n",
    "plt.stairs(counts, bins, fill=True)"
   ]
  },
  {
   "cell_type": "markdown",
   "metadata": {},
   "source": [
    "### Histogram of gt flow"
   ]
  },
  {
   "cell_type": "code",
   "execution_count": 67,
   "metadata": {},
   "outputs": [
    {
     "name": "stdout",
     "output_type": "stream",
     "text": [
      "torch.Size([45371, 3])\n",
      "torch.Size([45371])\n",
      "[0.  0.2 0.4 0.6 0.8 1.  1.2 1.4 1.6 1.8 2.  2.2 2.4 2.6 2.8 3.  3.2 3.4\n",
      " 3.6 3.8 4. ]\n"
     ]
    },
    {
     "data": {
      "text/plain": [
       "<matplotlib.patches.StepPatch at 0x7f2d91f4ba30>"
      ]
     },
     "execution_count": 67,
     "metadata": {},
     "output_type": "execute_result"
    },
    {
     "data": {
      "image/png": "[encoded data removed]",
      "text/plain": [
       "<Figure size 640x480 with 1 Axes>"
      ]
     },
     "metadata": {},
     "output_type": "display_data"
    }
   ],
   "source": [
    "print(gt_flow.shape)\n",
    "\n",
    "gt_flow_distance = torch.norm(gt_flow, dim=-1)\n",
    "\n",
    "print(gt_flow_distance.shape)\n",
    "\n",
    "bins = np.linspace(0, 4, 21)\n",
    "\n",
    "print(bins)\n",
    "\n",
    "counts, bins = np.histogram(gt_flow_distance.cpu().numpy(), bins=bins)\n",
    "plt.stairs(counts, bins, fill=True)"
   ]
  },
  {
   "cell_type": "code",
   "execution_count": 79,
   "metadata": {},
   "outputs": [
    {
     "data": {
      "text/plain": [
       "<matplotlib.legend.Legend at 0x7f2d6a82a5b0>"
      ]
     },
     "execution_count": 79,
     "metadata": {},
     "output_type": "execute_result"
    },
    {
     "data": {
      "image/png": "[encoded data removed]",
      "text/plain": [
       "<Figure size 640x480 with 1 Axes>"
      ]
     },
     "metadata": {},
     "output_type": "display_data"
    }
   ],
   "source": [
    "fig, ax = plt.subplots()    \n",
    "\n",
    "gt_flow = gt_flow_distance.cpu().numpy()\n",
    "voting_flow = points_src_rough_flow_dist_top1.cpu().numpy()\n",
    "ax.hist((gt_flow, voting_flow), bins=bins, histtype='bar', color=['C1', 'C0'], label=['gt_flow', 'voting_flow'])\n",
    "ax.legend(prop={'size': 10})"
   ]
  },
  {
   "cell_type": "markdown",
   "metadata": {},
   "source": [
    "## A for loop for all the samples"
   ]
  },
  {
   "cell_type": "code",
   "execution_count": 7,
   "metadata": {},
   "outputs": [
    {
     "name": "stdout",
     "output_type": "stream",
     "text": [
      "torch.Size([34, 34])\n",
      "torch.Size([34, 34])\n",
      "torch.Size([34, 34, 2])\n",
      "tensor([-3.3000, -3.3000])\n",
      "tensor([-3.3000,  3.3000])\n",
      "tensor([ 3.3000, -3.3000])\n",
      "tensor([3.3000, 3.3000])\n",
      "torch.Size([1156, 2])\n"
     ]
    },
    {
     "name": "stderr",
     "output_type": "stream",
     "text": [
      "/Data/Ubuntu_Default/anaconda3/envs/sf_tv/lib/python3.8/site-packages/torch/functional.py:504: UserWarning: torch.meshgrid: in an upcoming release, it will be required to pass the indexing argument. (Triggered internally at /opt/conda/conda-bld/pytorch_1678402421473/work/aten/src/ATen/native/TensorShape.cpp:3483.)\n",
      "  return _VF.meshgrid(tensors, **kwargs)  # type: ignore[attr-defined]\n"
     ]
    }
   ],
   "source": [
    "ref_y, ref_x = torch.meshgrid(torch.linspace(-3.3, 3.3, 34),torch.linspace(-3.3, 3.3 , 34))\n",
    "\n",
    "print(ref_y.shape)\n",
    "print(ref_x.shape)\n",
    "\n",
    "flow_coord = torch.stack((ref_y, ref_x), dim=-1)\n",
    "\n",
    "print(flow_coord.shape)\n",
    "\n",
    "print(flow_coord[0, 0, :])\n",
    "print(flow_coord[0, -1, :])\n",
    "print(flow_coord[-1, 0, :])\n",
    "print(flow_coord[-1, -1, :])\n",
    "\n",
    "flow_coord = flow_coord.view(-1, 2)\n",
    "print(flow_coord.shape)"
   ]
  },
  {
   "cell_type": "code",
   "execution_count": 8,
   "metadata": {},
   "outputs": [],
   "source": [
    "from tqdm import tqdm"
   ]
  },
  {
   "cell_type": "code",
   "execution_count": 18,
   "metadata": {},
   "outputs": [
    {
     "name": "stderr",
     "output_type": "stream",
     "text": [
      "  4%|▍         | 6/156 [00:01<00:40,  3.70it/s]\n"
     ]
    },
    {
     "ename": "AssertionError",
     "evalue": "gt flow:,42725, voting flow: 43263, /home/shimingwang/workspace/sf_tv/sceneflow_tv_se/outputs/sf_voxel_model/25e5c600-36fe-3245-9cc0-40ef91620c22/315966118560122000.pkl",
     "output_type": "error",
     "traceback": [
      "\u001b[0;31m---------------------------------------------------------------------------\u001b[0m",
      "\u001b[0;31mAssertionError\u001b[0m                            Traceback (most recent call last)",
      "Cell \u001b[0;32mIn[18], line 49\u001b[0m\n\u001b[1;32m     46\u001b[0m gt_flow_ \u001b[38;5;241m=\u001b[39m gt_flow_distance\u001b[38;5;241m.\u001b[39mnumpy()\n\u001b[1;32m     47\u001b[0m voting_flow_ \u001b[38;5;241m=\u001b[39m points_src_rough_flow_dist_top1\u001b[38;5;241m.\u001b[39mcpu()\u001b[38;5;241m.\u001b[39mnumpy()\n\u001b[0;32m---> 49\u001b[0m \u001b[38;5;28;01massert\u001b[39;00m \u001b[38;5;28mlen\u001b[39m(gt_flow_) \u001b[38;5;241m==\u001b[39m \u001b[38;5;28mlen\u001b[39m(voting_flow_), \u001b[38;5;124mf\u001b[39m\u001b[38;5;124m'\u001b[39m\u001b[38;5;124mgt flow:,\u001b[39m\u001b[38;5;132;01m{\u001b[39;00m\u001b[38;5;28mlen\u001b[39m(gt_flow_)\u001b[38;5;132;01m}\u001b[39;00m\u001b[38;5;124m, voting flow: \u001b[39m\u001b[38;5;132;01m{\u001b[39;00m\u001b[38;5;28mlen\u001b[39m(voting_flow_)\u001b[38;5;132;01m}\u001b[39;00m\u001b[38;5;124m, \u001b[39m\u001b[38;5;132;01m{\u001b[39;00mfile_path\u001b[38;5;132;01m}\u001b[39;00m\u001b[38;5;124m'\u001b[39m\n\u001b[1;32m     50\u001b[0m gt_flow_list\u001b[38;5;241m.\u001b[39mappend(gt_flow_)\n\u001b[1;32m     51\u001b[0m voting_flow_list\u001b[38;5;241m.\u001b[39mappend(voting_flow_)\n",
      "\u001b[0;31mAssertionError\u001b[0m: gt flow:,42725, voting flow: 43263, /home/shimingwang/workspace/sf_tv/sceneflow_tv_se/outputs/sf_voxel_model/25e5c600-36fe-3245-9cc0-40ef91620c22/315966118560122000.pkl"
     ]
    }
   ],
   "source": [
    "voting_flow_list = []\n",
    "gt_flow_list = []\n",
    "\n",
    "for file_path in tqdm(file_list):\n",
    "    # print(file_path)\n",
    "    f = open(file_path, 'rb')\n",
    "    outputs = pickle.load(f)\n",
    "    f.close()\n",
    "\n",
    "    input_batch = outputs['input_batch']\n",
    "    model_output = outputs['model_output']\n",
    "    \n",
    "    voting_vol = model_output['voting_vol'].cpu()\n",
    "    pc0_valid_point_idxes = model_output['pc0_valid_point_idxes'].cpu()\n",
    "    points_src_voxel_idx = model_output['points_src_voxel_idx'].cpu()\n",
    "    \n",
    "    flow = input_batch['flow'][pc0_valid_point_idxes].cpu()\n",
    "    pose_flow = model_output['pose_flow'][pc0_valid_point_idxes].cpu()\n",
    "\n",
    "    gt_flow = flow - pose_flow\n",
    "    \n",
    "\n",
    "    vols_flattened = voting_vol.view(voting_vol.shape[0], -1)\n",
    "\n",
    "    topk_voting, topk_idx = torch.topk(vols_flattened, 5, dim=-1)\n",
    "\n",
    "    flow_coord = flow_coord.to(topk_idx.device)\n",
    "    \n",
    "    voting_rough_flow = knn_gather(x=flow_coord[None], idx=topk_idx[None])\n",
    "    \n",
    "    voting_rough_flow_distance = torch.norm(voting_rough_flow, dim=-1)\n",
    "    \n",
    "    mask = points_src_voxel_idx[None,:,None] > 0\n",
    "    fill_value = -1\n",
    "    \n",
    "    idx = points_src_voxel_idx[None,:,None].long()\n",
    "    idx[~mask] = 0\n",
    "    \n",
    "    points_src_rough_flow_dist = knn_gather(x=voting_rough_flow_distance, idx=idx)\n",
    "    \n",
    "    points_src_rough_flow_dist[~mask] = fill_value\n",
    "    \n",
    "    points_src_rough_flow_dist_top1 = points_src_rough_flow_dist.squeeze(0).squeeze(1)[:, 0]\n",
    "    gt_flow_distance = torch.norm(gt_flow, dim=-1)\n",
    "\n",
    "    gt_flow_ = gt_flow_distance.numpy()\n",
    "    voting_flow_ = points_src_rough_flow_dist_top1.cpu().numpy()\n",
    "    \n",
    "    assert len(gt_flow_) == len(voting_flow_), f'gt flow:,{len(gt_flow_)}, voting flow: {len(voting_flow_)}, {file_path}'\n",
    "    gt_flow_list.append(gt_flow_)\n",
    "    voting_flow_list.append(voting_flow_)\n"
   ]
  },
  {
   "cell_type": "code",
   "execution_count": 14,
   "metadata": {},
   "outputs": [],
   "source": [
    "import numpy as np"
   ]
  },
  {
   "cell_type": "code",
   "execution_count": 15,
   "metadata": {},
   "outputs": [
    {
     "name": "stdout",
     "output_type": "stream",
     "text": [
      "156\n",
      "156\n",
      "(6865751,)\n",
      "(6883187,)\n"
     ]
    }
   ],
   "source": [
    "print(len(gt_flow_list))\n",
    "print(len(voting_flow_list))\n",
    "\n",
    "gt_flow_val_demo = np.concatenate(gt_flow_list, axis=0)\n",
    "voting_flow_val_demo = np.concatenate(voting_flow_list, axis=0)\n",
    "\n",
    "print(gt_flow_val_demo.shape)\n",
    "print(voting_flow_val_demo.shape)"
   ]
  },
  {
   "cell_type": "code",
   "execution_count": 17,
   "metadata": {},
   "outputs": [
    {
     "data": {
      "text/plain": [
       "<matplotlib.legend.Legend at 0x7f4c51f45dc0>"
      ]
     },
     "execution_count": 17,
     "metadata": {},
     "output_type": "execute_result"
    },
    {
     "data": {
      "image/png": "[encoded data removed]",
      "text/plain": [
       "<Figure size 640x480 with 1 Axes>"
      ]
     },
     "metadata": {},
     "output_type": "display_data"
    }
   ],
   "source": [
    "fig, ax = plt.subplots()    \n",
    "bins = np.linspace(0, 4, 21)\n",
    "ax.hist((gt_flow_val_demo, voting_flow_val_demo), bins=bins, histtype='bar', color=['C1', 'C0'], label=['gt_flow', 'voting_flow'])\n",
    "ax.legend(prop={'size': 10})"
   ]
  },
  {
   "cell_type": "code",
   "execution_count": null,
   "metadata": {},
   "outputs": [],
   "source": []
  }
 ],
 "metadata": {
  "kernelspec": {
   "display_name": "sf_tv",
   "language": "python",
   "name": "python3"
  },
  "language_info": {
   "codemirror_mode": {
    "name": "ipython",
    "version": 3
   },
   "file_extension": ".py",
   "mimetype": "text/x-python",
   "name": "python",
   "nbconvert_exporter": "python",
   "pygments_lexer": "ipython3",
   "version": "3.8.19"
  }
 },
 "nbformat": 4,
 "nbformat_minor": 2
}
