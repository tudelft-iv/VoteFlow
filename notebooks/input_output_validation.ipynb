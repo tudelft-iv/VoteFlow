{
 "cells": [
  {
   "cell_type": "code",
   "execution_count": 8,
   "metadata": {},
   "outputs": [],
   "source": [
    "import os \n",
    "import pickle\n",
    "import torch\n",
    "\n",
    "os.chdir('/home/shimingwang/workspace/sf_tv/sceneflow_tv_se')"
   ]
  },
  {
   "cell_type": "code",
   "execution_count": 4,
   "metadata": {},
   "outputs": [],
   "source": [
    "file_name = 'outputs/vis_batch.pkl'\n",
    "vis_batch = pickle.load(open(file_name, 'rb'))"
   ]
  },
  {
   "cell_type": "code",
   "execution_count": 5,
   "metadata": {},
   "outputs": [
    {
     "name": "stdout",
     "output_type": "stream",
     "text": [
      "dict_keys(['inputs', 'outputs'])\n"
     ]
    }
   ],
   "source": [
    "print(vis_batch.keys())"
   ]
  },
  {
   "cell_type": "code",
   "execution_count": 10,
   "metadata": {},
   "outputs": [
    {
     "name": "stdout",
     "output_type": "stream",
     "text": [
      "dict_keys(['pc0', 'pc1', 'pose0', 'pose1', 'flow', 'flow_is_valid', 'flow_category_indices', 'ego_motion'])\n",
      "pc0 tensor torch.Size([2, 78263, 3])\n",
      "pc1 tensor torch.Size([2, 78088, 3])\n",
      "pose0 list 2 torch.Size([4, 4])\n",
      "pose1 list 2 torch.Size([4, 4])\n",
      "flow tensor torch.Size([2, 78263, 3])\n",
      "flow_is_valid tensor torch.Size([2, 78263])\n",
      "flow_category_indices tensor torch.Size([2, 78263])\n",
      "ego_motion list 2 torch.Size([4, 4])\n"
     ]
    }
   ],
   "source": [
    "inputs = vis_batch['inputs']\n",
    "print(inputs.keys())\n",
    "\n",
    "for key in inputs.keys():\n",
    "    if isinstance(inputs[key], torch.Tensor):\n",
    "        print(key, 'tensor', inputs[key].shape)\n",
    "    if isinstance(inputs[key], list):\n",
    "        print(key, 'list', len(inputs[key]), inputs[key][0].shape)"
   ]
  },
  {
   "cell_type": "code",
   "execution_count": null,
   "metadata": {},
   "outputs": [],
   "source": []
  }
 ],
 "metadata": {
  "kernelspec": {
   "display_name": "sf_tv",
   "language": "python",
   "name": "python3"
  },
  "language_info": {
   "codemirror_mode": {
    "name": "ipython",
    "version": 3
   },
   "file_extension": ".py",
   "mimetype": "text/x-python",
   "name": "python",
   "nbconvert_exporter": "python",
   "pygments_lexer": "ipython3",
   "version": "3.8.19"
  }
 },
 "nbformat": 4,
 "nbformat_minor": 2
}
