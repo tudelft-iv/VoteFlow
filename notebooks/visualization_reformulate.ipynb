{
 "cells": [
  {
   "cell_type": "code",
   "execution_count": 1,
   "metadata": {},
   "outputs": [],
   "source": [
    "import os, pickle, h5py\n",
    "os.chdir('/home/shimingwang/workspace/sf_tv/sceneflow_tv_se')"
   ]
  },
  {
   "cell_type": "code",
   "execution_count": 2,
   "metadata": {},
   "outputs": [],
   "source": [
    "data_dir = 'data/argoverse2_demo/sensor/val'"
   ]
  },
  {
   "cell_type": "markdown",
   "metadata": {},
   "source": [
    "## Process the data and visualize with our tool"
   ]
  },
  {
   "cell_type": "code",
   "execution_count": 3,
   "metadata": {},
   "outputs": [],
   "source": [
    "data_index = pickle.load(open(os.path.join(data_dir, 'index_total.pkl'), 'rb'))"
   ]
  },
  {
   "cell_type": "code",
   "execution_count": 4,
   "metadata": {},
   "outputs": [
    {
     "name": "stdout",
     "output_type": "stream",
     "text": [
      "157\n",
      "[['25e5c600-36fe-3245-9cc0-40ef91620c22', '315966104259967000'], ['25e5c600-36fe-3245-9cc0-40ef91620c22', '315966104360163000'], ['25e5c600-36fe-3245-9cc0-40ef91620c22', '315966104459696000'], ['25e5c600-36fe-3245-9cc0-40ef91620c22', '315966104559893000'], ['25e5c600-36fe-3245-9cc0-40ef91620c22', '315966104660089000'], ['25e5c600-36fe-3245-9cc0-40ef91620c22', '315966104760285000'], ['25e5c600-36fe-3245-9cc0-40ef91620c22', '315966104859818000'], ['25e5c600-36fe-3245-9cc0-40ef91620c22', '315966104960015000'], ['25e5c600-36fe-3245-9cc0-40ef91620c22', '315966105060206000'], ['25e5c600-36fe-3245-9cc0-40ef91620c22', '315966105159739000'], ['25e5c600-36fe-3245-9cc0-40ef91620c22', '315966105259935000'], ['25e5c600-36fe-3245-9cc0-40ef91620c22', '315966105360132000'], ['25e5c600-36fe-3245-9cc0-40ef91620c22', '315966105460328000'], ['25e5c600-36fe-3245-9cc0-40ef91620c22', '315966105559861000'], ['25e5c600-36fe-3245-9cc0-40ef91620c22', '315966105660058000'], ['25e5c600-36fe-3245-9cc0-40ef91620c22', '315966105760254000'], ['25e5c600-36fe-3245-9cc0-40ef91620c22', '315966105859787000'], ['25e5c600-36fe-3245-9cc0-40ef91620c22', '315966105959983000'], ['25e5c600-36fe-3245-9cc0-40ef91620c22', '315966106060176000'], ['25e5c600-36fe-3245-9cc0-40ef91620c22', '315966106159709000'], ['25e5c600-36fe-3245-9cc0-40ef91620c22', '315966106259905000'], ['25e5c600-36fe-3245-9cc0-40ef91620c22', '315966106360101000'], ['25e5c600-36fe-3245-9cc0-40ef91620c22', '315966106459634000'], ['25e5c600-36fe-3245-9cc0-40ef91620c22', '315966106559831000'], ['25e5c600-36fe-3245-9cc0-40ef91620c22', '315966106660027000'], ['25e5c600-36fe-3245-9cc0-40ef91620c22', '315966106760224000'], ['25e5c600-36fe-3245-9cc0-40ef91620c22', '315966106859756000'], ['25e5c600-36fe-3245-9cc0-40ef91620c22', '315966106959953000'], ['25e5c600-36fe-3245-9cc0-40ef91620c22', '315966107060144000'], ['25e5c600-36fe-3245-9cc0-40ef91620c22', '315966107159677000'], ['25e5c600-36fe-3245-9cc0-40ef91620c22', '315966107259874000'], ['25e5c600-36fe-3245-9cc0-40ef91620c22', '315966107360070000'], ['25e5c600-36fe-3245-9cc0-40ef91620c22', '315966107460266000'], ['25e5c600-36fe-3245-9cc0-40ef91620c22', '315966107559799000'], ['25e5c600-36fe-3245-9cc0-40ef91620c22', '315966107659996000'], ['25e5c600-36fe-3245-9cc0-40ef91620c22', '315966107760192000'], ['25e5c600-36fe-3245-9cc0-40ef91620c22', '315966107859725000'], ['25e5c600-36fe-3245-9cc0-40ef91620c22', '315966107959921000'], ['25e5c600-36fe-3245-9cc0-40ef91620c22', '315966108060114000'], ['25e5c600-36fe-3245-9cc0-40ef91620c22', '315966108160310000'], ['25e5c600-36fe-3245-9cc0-40ef91620c22', '315966108259843000'], ['25e5c600-36fe-3245-9cc0-40ef91620c22', '315966108360039000'], ['25e5c600-36fe-3245-9cc0-40ef91620c22', '315966108460236000'], ['25e5c600-36fe-3245-9cc0-40ef91620c22', '315966108559769000'], ['25e5c600-36fe-3245-9cc0-40ef91620c22', '315966108659965000'], ['25e5c600-36fe-3245-9cc0-40ef91620c22', '315966108760162000'], ['25e5c600-36fe-3245-9cc0-40ef91620c22', '315966108859694000'], ['25e5c600-36fe-3245-9cc0-40ef91620c22', '315966108959891000'], ['25e5c600-36fe-3245-9cc0-40ef91620c22', '315966109060083000'], ['25e5c600-36fe-3245-9cc0-40ef91620c22', '315966109160280000'], ['25e5c600-36fe-3245-9cc0-40ef91620c22', '315966109259813000'], ['25e5c600-36fe-3245-9cc0-40ef91620c22', '315966109360009000'], ['25e5c600-36fe-3245-9cc0-40ef91620c22', '315966109460205000'], ['25e5c600-36fe-3245-9cc0-40ef91620c22', '315966109559738000'], ['25e5c600-36fe-3245-9cc0-40ef91620c22', '315966109659935000'], ['25e5c600-36fe-3245-9cc0-40ef91620c22', '315966109760131000'], ['25e5c600-36fe-3245-9cc0-40ef91620c22', '315966109859664000'], ['25e5c600-36fe-3245-9cc0-40ef91620c22', '315966109959860000'], ['25e5c600-36fe-3245-9cc0-40ef91620c22', '315966110060052000'], ['25e5c600-36fe-3245-9cc0-40ef91620c22', '315966110160248000'], ['25e5c600-36fe-3245-9cc0-40ef91620c22', '315966110259781000'], ['25e5c600-36fe-3245-9cc0-40ef91620c22', '315966110359977000'], ['25e5c600-36fe-3245-9cc0-40ef91620c22', '315966110460174000'], ['25e5c600-36fe-3245-9cc0-40ef91620c22', '315966110559707000'], ['25e5c600-36fe-3245-9cc0-40ef91620c22', '315966110659903000'], ['25e5c600-36fe-3245-9cc0-40ef91620c22', '315966110760100000'], ['25e5c600-36fe-3245-9cc0-40ef91620c22', '315966110859632000'], ['25e5c600-36fe-3245-9cc0-40ef91620c22', '315966110959829000'], ['25e5c600-36fe-3245-9cc0-40ef91620c22', '315966111060021000'], ['25e5c600-36fe-3245-9cc0-40ef91620c22', '315966111160218000'], ['25e5c600-36fe-3245-9cc0-40ef91620c22', '315966111259751000'], ['25e5c600-36fe-3245-9cc0-40ef91620c22', '315966111359947000'], ['25e5c600-36fe-3245-9cc0-40ef91620c22', '315966111460143000'], ['25e5c600-36fe-3245-9cc0-40ef91620c22', '315966111559676000'], ['25e5c600-36fe-3245-9cc0-40ef91620c22', '315966111659873000'], ['25e5c600-36fe-3245-9cc0-40ef91620c22', '315966111760069000'], ['25e5c600-36fe-3245-9cc0-40ef91620c22', '315966111860266000'], ['25e5c600-36fe-3245-9cc0-40ef91620c22', '315966111959798000'], ['25e5c600-36fe-3245-9cc0-40ef91620c22', '315966112059990000'], ['25e5c600-36fe-3245-9cc0-40ef91620c22', '315966112160186000'], ['25e5c600-36fe-3245-9cc0-40ef91620c22', '315966112259719000'], ['25e5c600-36fe-3245-9cc0-40ef91620c22', '315966112359915000'], ['25e5c600-36fe-3245-9cc0-40ef91620c22', '315966112460112000'], ['25e5c600-36fe-3245-9cc0-40ef91620c22', '315966112559645000'], ['25e5c600-36fe-3245-9cc0-40ef91620c22', '315966112659841000'], ['25e5c600-36fe-3245-9cc0-40ef91620c22', '315966112760038000'], ['25e5c600-36fe-3245-9cc0-40ef91620c22', '315966112859570000'], ['25e5c600-36fe-3245-9cc0-40ef91620c22', '315966112959767000'], ['25e5c600-36fe-3245-9cc0-40ef91620c22', '315966113059959000'], ['25e5c600-36fe-3245-9cc0-40ef91620c22', '315966113160156000'], ['25e5c600-36fe-3245-9cc0-40ef91620c22', '315966113259689000'], ['25e5c600-36fe-3245-9cc0-40ef91620c22', '315966113359885000'], ['25e5c600-36fe-3245-9cc0-40ef91620c22', '315966113460081000'], ['25e5c600-36fe-3245-9cc0-40ef91620c22', '315966113560278000'], ['25e5c600-36fe-3245-9cc0-40ef91620c22', '315966113659811000'], ['25e5c600-36fe-3245-9cc0-40ef91620c22', '315966113760007000'], ['25e5c600-36fe-3245-9cc0-40ef91620c22', '315966113860204000'], ['25e5c600-36fe-3245-9cc0-40ef91620c22', '315966113959736000'], ['25e5c600-36fe-3245-9cc0-40ef91620c22', '315966114059928000'], ['25e5c600-36fe-3245-9cc0-40ef91620c22', '315966114160124000'], ['25e5c600-36fe-3245-9cc0-40ef91620c22', '315966114260321000'], ['25e5c600-36fe-3245-9cc0-40ef91620c22', '315966114359854000'], ['25e5c600-36fe-3245-9cc0-40ef91620c22', '315966114460050000'], ['25e5c600-36fe-3245-9cc0-40ef91620c22', '315966114560246000'], ['25e5c600-36fe-3245-9cc0-40ef91620c22', '315966114659779000'], ['25e5c600-36fe-3245-9cc0-40ef91620c22', '315966114759976000'], ['25e5c600-36fe-3245-9cc0-40ef91620c22', '315966114860172000'], ['25e5c600-36fe-3245-9cc0-40ef91620c22', '315966114959705000'], ['25e5c600-36fe-3245-9cc0-40ef91620c22', '315966115059897000'], ['25e5c600-36fe-3245-9cc0-40ef91620c22', '315966115160094000'], ['25e5c600-36fe-3245-9cc0-40ef91620c22', '315966115263131000'], ['25e5c600-36fe-3245-9cc0-40ef91620c22', '315966115359823000'], ['25e5c600-36fe-3245-9cc0-40ef91620c22', '315966115460019000'], ['25e5c600-36fe-3245-9cc0-40ef91620c22', '315966115560216000'], ['25e5c600-36fe-3245-9cc0-40ef91620c22', '315966115659749000'], ['25e5c600-36fe-3245-9cc0-40ef91620c22', '315966115759945000'], ['25e5c600-36fe-3245-9cc0-40ef91620c22', '315966115860142000'], ['25e5c600-36fe-3245-9cc0-40ef91620c22', '315966115959674000'], ['25e5c600-36fe-3245-9cc0-40ef91620c22', '315966116059866000'], ['25e5c600-36fe-3245-9cc0-40ef91620c22', '315966116160062000'], ['25e5c600-36fe-3245-9cc0-40ef91620c22', '315966116260259000'], ['25e5c600-36fe-3245-9cc0-40ef91620c22', '315966116359791000'], ['25e5c600-36fe-3245-9cc0-40ef91620c22', '315966116459988000'], ['25e5c600-36fe-3245-9cc0-40ef91620c22', '315966116560184000'], ['25e5c600-36fe-3245-9cc0-40ef91620c22', '315966116659717000'], ['25e5c600-36fe-3245-9cc0-40ef91620c22', '315966116759914000'], ['25e5c600-36fe-3245-9cc0-40ef91620c22', '315966116860110000'], ['25e5c600-36fe-3245-9cc0-40ef91620c22', '315966116959643000'], ['25e5c600-36fe-3245-9cc0-40ef91620c22', '315966117059835000'], ['25e5c600-36fe-3245-9cc0-40ef91620c22', '315966117160032000'], ['25e5c600-36fe-3245-9cc0-40ef91620c22', '315966117260228000'], ['25e5c600-36fe-3245-9cc0-40ef91620c22', '315966117359761000'], ['25e5c600-36fe-3245-9cc0-40ef91620c22', '315966117459957000'], ['25e5c600-36fe-3245-9cc0-40ef91620c22', '315966117560154000'], ['25e5c600-36fe-3245-9cc0-40ef91620c22', '315966117659687000'], ['25e5c600-36fe-3245-9cc0-40ef91620c22', '315966117759883000'], ['25e5c600-36fe-3245-9cc0-40ef91620c22', '315966117860079000'], ['25e5c600-36fe-3245-9cc0-40ef91620c22', '315966117959612000'], ['25e5c600-36fe-3245-9cc0-40ef91620c22', '315966118059804000'], ['25e5c600-36fe-3245-9cc0-40ef91620c22', '315966118160000000'], ['25e5c600-36fe-3245-9cc0-40ef91620c22', '315966118260197000'], ['25e5c600-36fe-3245-9cc0-40ef91620c22', '315966118359729000'], ['25e5c600-36fe-3245-9cc0-40ef91620c22', '315966118459926000'], ['25e5c600-36fe-3245-9cc0-40ef91620c22', '315966118560122000'], ['25e5c600-36fe-3245-9cc0-40ef91620c22', '315966118660319000'], ['25e5c600-36fe-3245-9cc0-40ef91620c22', '315966118759852000'], ['25e5c600-36fe-3245-9cc0-40ef91620c22', '315966118860048000'], ['25e5c600-36fe-3245-9cc0-40ef91620c22', '315966118960244000'], ['25e5c600-36fe-3245-9cc0-40ef91620c22', '315966119059773000'], ['25e5c600-36fe-3245-9cc0-40ef91620c22', '315966119159970000'], ['25e5c600-36fe-3245-9cc0-40ef91620c22', '315966119263005000'], ['25e5c600-36fe-3245-9cc0-40ef91620c22', '315966119359699000'], ['25e5c600-36fe-3245-9cc0-40ef91620c22', '315966119459895000'], ['25e5c600-36fe-3245-9cc0-40ef91620c22', '315966119560092000'], ['25e5c600-36fe-3245-9cc0-40ef91620c22', '315966119659625000'], ['25e5c600-36fe-3245-9cc0-40ef91620c22', '315966119759821000'], ['25e5c600-36fe-3245-9cc0-40ef91620c22', '315966119860017000']]\n"
     ]
    }
   ],
   "source": [
    "print(len(data_index))\n",
    "print(data_index) ## scene_id, timestamp"
   ]
  },
  {
   "cell_type": "code",
   "execution_count": 7,
   "metadata": {},
   "outputs": [
    {
     "name": "stdout",
     "output_type": "stream",
     "text": [
      "dict_keys(['scene_id', 'timestamp', 'pc0', 'gm0', 'pose0', 'seflow_best', 'pose1', 'pc1', 'gm1'])\n"
     ]
    }
   ],
   "source": [
    "index = 32\n",
    "scene_id, timestamp = data_index[index]\n",
    "key = str(timestamp)\n",
    "vis_name = 'seflow_best'\n",
    "save_dir = 'outputs/reformulated_vis_outputs'\n",
    "pkl_file_path = os.path.join(save_dir, scene_id, f'{timestamp}.pkl')\n",
    "\n",
    "data_dict = pickle.load(open(pkl_file_path, 'rb'))\n",
    "\n",
    "print(data_dict.keys())"
   ]
  },
  {
   "cell_type": "code",
   "execution_count": 9,
   "metadata": {},
   "outputs": [],
   "source": [
    "import numpy as np"
   ]
  },
  {
   "cell_type": "code",
   "execution_count": 13,
   "metadata": {},
   "outputs": [
    {
     "name": "stdout",
     "output_type": "stream",
     "text": [
      "pc0: (95839, 3)\n",
      "gm0: (95839,)\n",
      "pc1: (95821, 3)\n",
      "gm1: (95821,)\n",
      "pose0: (4, 4)\n",
      "pose1: (4, 4)\n",
      "ego0t1: (4, 4)\n",
      "pose_flow: (95839, 3)\n",
      "seflow:(95839, 3)\n"
     ]
    }
   ],
   "source": [
    "pc0 = data_dict['pc0']\n",
    "gm0 = data_dict['gm0']\n",
    "pc1 = data_dict['pc1']\n",
    "gm1 = data_dict['gm1']\n",
    "\n",
    "pose0 = data_dict['pose0'] # ego2city\n",
    "pose1 = data_dict['pose1'] # ego2city\n",
    "\n",
    "ego0t1 = np.linalg.inv(pose1) @ pose0\n",
    "\n",
    "pose_flow = pc0[:, :3] @ ego0t1[:3, :3].T + ego0t1[:3, 3] - pc0[:, :3] ## transform pc0 to pc0 after ego motion compensation\n",
    "\n",
    "flow = data_dict['seflow_best']\n",
    "\n",
    "true_flow = flow - pose_flow\n",
    "print(f'pc0: {pc0.shape}')\n",
    "print(f'gm0: {gm0.shape}')\n",
    "print(f'pc1: {pc1.shape}')\n",
    "print(f'gm1: {gm1.shape}')\n",
    "print(f'pose0: {pose0.shape}')\n",
    "print(f'pose1: {pose1.shape}')\n",
    "print(f'ego0t1: {ego0t1.shape}')\n",
    "print(f'pose_flow: {pose_flow.shape}')\n",
    "print(f'seflow:{flow.shape}')\n",
    "print(f'true_flow:{true_flow.shape}')"
   ]
  },
  {
   "cell_type": "markdown",
   "metadata": {},
   "source": [
    "## Investigate the data in hdf5 file"
   ]
  },
  {
   "cell_type": "code",
   "execution_count": 10,
   "metadata": {},
   "outputs": [],
   "source": [
    "index = 32"
   ]
  },
  {
   "cell_type": "code",
   "execution_count": 16,
   "metadata": {},
   "outputs": [],
   "source": [
    "scene_id, timestamp = data_index[index]\n",
    "key = str(timestamp)\n",
    "data_dict = {\n",
    "    'scene_id': scene_id,\n",
    "    'timestamp': timestamp,\n",
    "}\n",
    "\n",
    "vis_name = 'seflow_best'"
   ]
  },
  {
   "cell_type": "code",
   "execution_count": 17,
   "metadata": {},
   "outputs": [],
   "source": [
    "with h5py.File(os.path.join(data_dir, f'{scene_id}.h5'), 'r') as f:\n",
    "    data_dict['pc0'] = f[key]['lidar'][:]\n",
    "    data_dict['gm0'] = f[key]['ground_mask'][:]\n",
    "    data_dict['pose0'] = f[key]['pose'][:]\n",
    "    for flow_key in [vis_name, 'dufo_label', 'label']:\n",
    "        if flow_key in f[key]:\n",
    "            data_dict[flow_key] = f[key][flow_key][:]\n",
    "\n",
    "    next_timestamp = str(data_index[index+1][1])\n",
    "    data_dict['pose1'] = f[next_timestamp]['pose'][:]\n",
    "    data_dict['pc1'] = f[next_timestamp]['lidar'][:]\n",
    "    data_dict['gm1'] = f[next_timestamp]['ground_mask'][:]"
   ]
  },
  {
   "cell_type": "markdown",
   "metadata": {},
   "source": [
    "## Assemable"
   ]
  },
  {
   "cell_type": "code",
   "execution_count": 26,
   "metadata": {},
   "outputs": [],
   "source": [
    "from tqdm import tqdm"
   ]
  },
  {
   "cell_type": "code",
   "execution_count": 27,
   "metadata": {},
   "outputs": [],
   "source": [
    "save_dir = 'outputs/reformulated_vis_outputs'\n",
    "for (scene_id, timestamp) in data_index:\n",
    "    key = str(timestamp)\n",
    "    data_dict = {\n",
    "        'scene_id': scene_id,\n",
    "        'timestamp': timestamp,\n",
    "    }\n",
    "\n",
    "    vis_name = 'seflow_best'\n",
    "    with h5py.File(os.path.join(data_dir, f'{scene_id}.h5'), 'r') as f:\n",
    "        data_dict['pc0'] = f[key]['lidar'][:]\n",
    "        data_dict['gm0'] = f[key]['ground_mask'][:]\n",
    "        data_dict['pose0'] = f[key]['pose'][:]\n",
    "        for flow_key in [vis_name, 'dufo_label', 'label']:\n",
    "            if flow_key in f[key]:\n",
    "                data_dict[flow_key] = f[key][flow_key][:]\n",
    "\n",
    "        next_timestamp = str(data_index[index+1][1])\n",
    "        data_dict['pose1'] = f[next_timestamp]['pose'][:]\n",
    "        data_dict['pc1'] = f[next_timestamp]['lidar'][:]\n",
    "        data_dict['gm1'] = f[next_timestamp]['ground_mask'][:]\n",
    "    \n",
    "    sub_dir = os.path.join(save_dir,f'{scene_id}')\n",
    "    if not os.path.exists(sub_dir):\n",
    "        os.makedirs(sub_dir)\n",
    "    file = os.path.join(sub_dir,f'{timestamp}.pkl')\n",
    "    pickle.dump(data_dict, open(file, 'wb'))"
   ]
  }
 ],
 "metadata": {
  "kernelspec": {
   "display_name": "sf_tv",
   "language": "python",
   "name": "python3"
  },
  "language_info": {
   "codemirror_mode": {
    "name": "ipython",
    "version": 3
   },
   "file_extension": ".py",
   "mimetype": "text/x-python",
   "name": "python",
   "nbconvert_exporter": "python",
   "pygments_lexer": "ipython3",
   "version": "3.8.19"
  }
 },
 "nbformat": 4,
 "nbformat_minor": 2
}
