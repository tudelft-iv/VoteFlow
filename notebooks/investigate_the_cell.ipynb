{
 "cells": [
  {
   "cell_type": "code",
   "execution_count": 2,
   "metadata": {},
   "outputs": [],
   "source": [
    "import torch\n",
    "import math"
   ]
  },
  {
   "cell_type": "code",
   "execution_count": 3,
   "metadata": {},
   "outputs": [
    {
     "data": {
      "text/plain": [
       "17"
      ]
     },
     "execution_count": 3,
     "metadata": {},
     "output_type": "execute_result"
    }
   ],
   "source": [
    "math.ceil(3.3 / 0.2)"
   ]
  },
  {
   "cell_type": "code",
   "execution_count": 9,
   "metadata": {},
   "outputs": [
    {
     "name": "stdout",
     "output_type": "stream",
     "text": [
      "torch.Size([34, 34])\n",
      "torch.Size([34, 34])\n",
      "torch.Size([34, 34, 2])\n"
     ]
    }
   ],
   "source": [
    "ref_y, ref_x = torch.meshgrid(torch.linspace(-3.3, 3.3, 34),torch.linspace(-3.3, 3.3 , 34))\n",
    "\n",
    "print(ref_y.shape)\n",
    "print(ref_x.shape)\n",
    "\n",
    "flow_coord = torch.stack((ref_y, ref_x), dim=-1)\n",
    "\n",
    "print(flow_coord.shape)"
   ]
  },
  {
   "cell_type": "code",
   "execution_count": 10,
   "metadata": {},
   "outputs": [
    {
     "name": "stdout",
     "output_type": "stream",
     "text": [
      "tensor([-3.3000, -3.3000])\n",
      "tensor([-3.3000,  3.3000])\n",
      "tensor([ 3.3000, -3.3000])\n",
      "tensor([3.3000, 3.3000])\n"
     ]
    }
   ],
   "source": [
    "print(flow_coord[0,0])\n",
    "print(flow_coord[0,-1])\n",
    "print(flow_coord[-1,0])\n",
    "print(flow_coord[-1,-1])"
   ]
  },
  {
   "cell_type": "code",
   "execution_count": null,
   "metadata": {},
   "outputs": [],
   "source": []
  }
 ],
 "metadata": {
  "kernelspec": {
   "display_name": "sf_tv",
   "language": "python",
   "name": "python3"
  },
  "language_info": {
   "codemirror_mode": {
    "name": "ipython",
    "version": 3
   },
   "file_extension": ".py",
   "mimetype": "text/x-python",
   "name": "python",
   "nbconvert_exporter": "python",
   "pygments_lexer": "ipython3",
   "version": "3.8.19"
  }
 },
 "nbformat": 4,
 "nbformat_minor": 2
}
